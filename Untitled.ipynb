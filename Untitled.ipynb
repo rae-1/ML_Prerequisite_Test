{
 "cells": [
  {
   "cell_type": "markdown",
   "id": "3199e832-c3d4-4204-9052-4358ff87558c",
   "metadata": {},
   "source": [
    "### Question 1"
   ]
  },
  {
   "cell_type": "markdown",
   "id": "9d70ee0b-241c-4878-9da8-70d741fd140f",
   "metadata": {},
   "source": [
    "Given dimensions are (n,k) and (k, m)<br>\n",
    "Matrix multiplication is done row by column, so each of the row elements of the first matrix would be multiplied with the corresponding element in the second matrix and would be added up.<br>\n",
    "Therefore, total number of multiplication = n * k * m<br>\n",
    "Now, while finding the first entry of the resultant matrix, k multiplication are done and are added up resulting in (k-1) additions.<br>\n",
    "Therefore, total number of additions = (k - 1) * m * n<br>"
   ]
  },
  {
   "cell_type": "markdown",
   "id": "fa6d6757-5e0a-44fb-9231-ac49225aa138",
   "metadata": {},
   "source": [
    "### Question 2"
   ]
  },
  {
   "cell_type": "code",
   "execution_count": 221,
   "id": "d81d3673-187b-4298-a510-4649efa2ee59",
   "metadata": {},
   "outputs": [],
   "source": [
    "import time\n",
    "import numpy"
   ]
  },
  {
   "cell_type": "code",
   "execution_count": 388,
   "id": "c44b4730-a17d-4100-8990-61ba13ca08f1",
   "metadata": {},
   "outputs": [
    {
     "name": "stdout",
     "output_type": "stream",
     "text": [
      "Time taken when using list of list:  0.031195878982543945\n",
      "Time taken when using numpy:  0.0002956390380859375\n"
     ]
    }
   ],
   "source": [
    "def custom_mul(matrix_1, matrix_2):\n",
    "    n = len(matrix_1)\n",
    "    k = len(matrix_1[0])\n",
    "    m = len(matrix_2[0])\n",
    "    result = []\n",
    "    start = time.time()\n",
    "    for i in range(n):\n",
    "        temp = []\n",
    "        for ele_mul in range(m):\n",
    "            sum = 0\n",
    "            for j in range(k):\n",
    "                sum += matrix_1[i][j] * matrix_2[j][ele_mul]\n",
    "            temp.append(sum)\n",
    "        result.append(temp)\n",
    "        \n",
    "    end = time.time()\n",
    "    print('Time taken when using list of list: ', end - start)\n",
    "    return result\n",
    "\n",
    "def using_numpy(matrix_1, matrix_2):\n",
    "    start = time.time()\n",
    "    result = np.dot(matrix_1, matrix_2)\n",
    "    end = time.time()\n",
    "    \n",
    "    print('Time taken when using numpy: ', end - start)\n",
    "    return result\n",
    "\n",
    "\n",
    "# matrix_1 = [[2, 6, 4],\n",
    "#             [1, 9, 7]]\n",
    "# matrix_2 = [[3, 2],\n",
    "#             [4, 10],\n",
    "#             [11, 8]]\n",
    "matrix_1 = np.linspace(0, 10000, 10000).reshape(40, 250)\n",
    "matrix_2 = np.linspace(0, 10000, 10000).reshape(250, 40)\n",
    "\n",
    "matrix_1 = matrix_1.tolist()\n",
    "matrix_2 = matrix_2.tolist()\n",
    "\n",
    "mul_list = custom_mul(matrix_1, matrix_2)\n",
    "\n",
    "matrix_1 = np.array(matrix_1)\n",
    "matrix_2 = np.array(matrix_2)\n",
    "mul_np   = using_numpy(matrix_1, matrix_2)\n",
    "\n",
    "# print()\n",
    "# print(mul_list)\n",
    "# mul_np"
   ]
  },
  {
   "cell_type": "markdown",
   "id": "3b9b5ede-ade5-4437-913e-3742f1ac5033",
   "metadata": {},
   "source": [
    "`Which one is faster?`\n",
    "\n",
    "Numpy arrays are faster.\n",
    "#### Reason:\n",
    "Numpy arrays are homogeneous in nature and are stored in contigious memory location whereas python list are hetrogeneous and are an array of pointers to the object. That's why memory access is faster in numpy arrays. Moreover, the methods in numpy are written in c, c++ and fortran."
   ]
  },
  {
   "cell_type": "markdown",
   "id": "05c047cc-14f6-4cc7-b66e-0ef38a1ba777",
   "metadata": {},
   "source": [
    "### Question 3"
   ]
  },
  {
   "cell_type": "markdown",
   "id": "0aeccec7-e793-4c93-8531-3787e5b51b87",
   "metadata": {},
   "source": [
    "1. Finding the largest element takes one pass and for 2nd largest it takes two pass.<br>\n",
    "In this way to find the median of the array one has to do minimum n/2 passes of the array, where n is the lenght of the array.<br>\n",
    "Therefore, time complexity = O(n^2)\n",
    "2. A better method would be to sort the array and output the middle element. Time complexity - O(nlog(n))\n",
    "3. The first solution took around 3.7 sec, sorting takes 0.0012 sec and numpy's inbuild function takes 0.0011sec. Therefore, np.median() takes the least time then sorting and at last the n pass algorithm."
   ]
  },
  {
   "cell_type": "code",
   "execution_count": 320,
   "id": "42c97d6f-20a9-430b-8478-e707af7d0c31",
   "metadata": {},
   "outputs": [],
   "source": [
    "import random\n",
    "import time"
   ]
  },
  {
   "cell_type": "code",
   "execution_count": 353,
   "id": "ac1bab71-6540-4fc1-af0a-2f2fc2c5b0a6",
   "metadata": {},
   "outputs": [
    {
     "name": "stdout",
     "output_type": "stream",
     "text": [
      "Median is  11.0\n",
      "Time required:  3.734344244003296\n"
     ]
    }
   ],
   "source": [
    "'''\n",
    "    Using the process given\n",
    "    in the question\n",
    "'''\n",
    "dummy = [random.randint(1, 20) for i in range(5000)]\n",
    "\n",
    "n = len(dummy)\n",
    "valuePos = set()\n",
    "\n",
    "result = []\n",
    "start = time.time()\n",
    "for i in range(n):\n",
    "    current_largest = int(-1e9)\n",
    "    index = 0\n",
    "    for j in range(n):\n",
    "        temp = (dummy[j], j)\n",
    "        if current_largest < dummy[j] and temp not in valuePos:\n",
    "            current_largest = dummy[j]\n",
    "            index = j\n",
    "    result.append(current_largest)\n",
    "    valuePos.add((current_largest, index))\n",
    "    \n",
    "# print(dummy)\n",
    "# print(result)\n",
    "if n%2 == 0:\n",
    "    print(\"Median is \", (result[int(n/2) - 1] + result[int(n/2)]) / 2)\n",
    "else:\n",
    "    print(\"Median is \", result[int(n/2)])\n",
    "end = time.time()\n",
    "\n",
    "print(\"Time required: \", end - start)"
   ]
  },
  {
   "cell_type": "code",
   "execution_count": 358,
   "id": "92312d58-5083-4a92-836d-6bd802b3d6c4",
   "metadata": {},
   "outputs": [
    {
     "name": "stdout",
     "output_type": "stream",
     "text": [
      "Median is  11.0\n",
      "Time required using sort:  0.001264333724975586\n"
     ]
    }
   ],
   "source": [
    "'''\n",
    "    Sorting the array and finding \n",
    "    the middle element\n",
    "'''\n",
    "temp = dummy.copy()\n",
    "start = time.time()\n",
    "temp.sort()\n",
    "if n%2 == 0:\n",
    "    print(\"Median is \", (temp[int(n/2) - 1] + temp[int(n/2)]) / 2)\n",
    "else:\n",
    "    print(\"Median is \", temp[int(n/2)])\n",
    "end = time.time()\n",
    "print(\"Time required using sort: \", end - start)"
   ]
  },
  {
   "cell_type": "code",
   "execution_count": 359,
   "id": "16340de1-4ccf-437d-8b07-c92b747b907c",
   "metadata": {},
   "outputs": [
    {
     "name": "stdout",
     "output_type": "stream",
     "text": [
      "Time required using np.median():  0.001184225082397461\n"
     ]
    }
   ],
   "source": [
    "'''\n",
    "    Using np.median\n",
    "'''\n",
    "start = time.time()\n",
    "np.median(dummy)\n",
    "end = time.time()\n",
    "print(\"Time required using np.median(): \", end - start)"
   ]
  },
  {
   "cell_type": "markdown",
   "id": "46b53f07-b113-46c1-ac47-53298d66db56",
   "metadata": {},
   "source": [
    "### Question 4"
   ]
  },
  {
   "cell_type": "markdown",
   "id": "4c6aa401-34df-457f-a064-f8210c9a22a5",
   "metadata": {},
   "source": [
    "$$x^2y + y^3sin(x)$$\n",
    "Gradient wrt x:\n",
    "$$2xy + y^3cos(x)$$\n",
    "Gradient  wrt y:\n",
    "$$x^2 + 3y^2sin(x)$$"
   ]
  },
  {
   "cell_type": "markdown",
   "id": "72270b5e-54d7-4ec0-8643-f0334c5f1aef",
   "metadata": {},
   "source": [
    "### Question 5"
   ]
  },
  {
   "cell_type": "code",
   "execution_count": 360,
   "id": "44fa7836-f4dc-4a7c-9c9f-e1ae01e18b01",
   "metadata": {},
   "outputs": [],
   "source": [
    "import jax.numpy as jnp\n",
    "from jax import grad, jit, vmap\n",
    "from jax import random\n",
    "import jax\n",
    "import random"
   ]
  },
  {
   "cell_type": "code",
   "execution_count": 362,
   "id": "19419765-82e8-42cc-8191-2e6ed5ea38ff",
   "metadata": {},
   "outputs": [],
   "source": [
    "def given_func(x, y):\n",
    "    return (x**2)*y + (y**3)*jnp.sin(x)\n",
    "def self_diff(x, y):\n",
    "    dfdx = (2*x*y) + ((y**3)*jnp.cos(x))\n",
    "    dfdy = (x**2) + (3*(y**2)*jnp.sin(x))\n",
    "    return (dfdx, dfdy)"
   ]
  },
  {
   "cell_type": "code",
   "execution_count": 384,
   "id": "a9415a71-d169-46fa-bf46-d998fa361a13",
   "metadata": {},
   "outputs": [
    {
     "name": "stdout",
     "output_type": "stream",
     "text": [
      "Calculating using JAX: \n",
      "0.050994806   0.65966237\n",
      "Custom: \n",
      "0.050994802   0.65966237\n"
     ]
    }
   ],
   "source": [
    "dfdx = grad(fun=given_func, argnums=0)\n",
    "dfdy = grad(fun=given_func, argnums=1)\n",
    "\n",
    "rand_x = random.random()\n",
    "rand_y = random.random()\n",
    "\n",
    "print(\"Calculating using JAX: \")\n",
    "print(dfdx(rand_x, rand_y), \" \", dfdy(rand_x, rand_y))\n",
    "\n",
    "my_x, my_y = self_diff(rand_x, rand_y)\n",
    "print(\"Custom: \")\n",
    "print(my_x, \" \", my_y)"
   ]
  },
  {
   "cell_type": "markdown",
   "id": "a390f34d-afba-4ae5-be11-f2e777833224",
   "metadata": {},
   "source": [
    "### Question 6"
   ]
  },
  {
   "cell_type": "code",
   "execution_count": 365,
   "id": "3939a90b-8154-4b31-bad0-510a17d89f3b",
   "metadata": {},
   "outputs": [],
   "source": [
    "import sympy\n",
    "from sympy import diff, symbols\n",
    "x, y = symbols('x y')"
   ]
  },
  {
   "cell_type": "code",
   "execution_count": 366,
   "id": "15ec291f-0e1b-493c-b337-301bed627186",
   "metadata": {},
   "outputs": [
    {
     "name": "stdout",
     "output_type": "stream",
     "text": [
      "2*x*y + y**3*cos(x)\n",
      "x**2 + 3*y**2*sin(x)\n"
     ]
    }
   ],
   "source": [
    "f = (x**2)*y + (y**3)*sympy.sin(x)\n",
    "dfdx = diff(f, x)\n",
    "dfdy = diff(f, y)\n",
    "\n",
    "rand_x = random.random()\n",
    "rand_y = random.random()\n",
    "\n",
    "values = {x: rand_x, y: rand_y}\n",
    "print(dfdx)\n",
    "print(dfdy)"
   ]
  },
  {
   "cell_type": "markdown",
   "id": "790a207c-379e-4a6e-bde1-2ad49a268a43",
   "metadata": {},
   "source": [
    "## Question 7"
   ]
  },
  {
   "cell_type": "code",
   "execution_count": 368,
   "id": "ce41898e-e52e-448f-8acb-d98bdbf23eba",
   "metadata": {},
   "outputs": [
    {
     "data": {
      "text/plain": [
       "{2022: {'Branch 1': [{'Roll Number': 1,\n",
       "    'Name': 'N',\n",
       "    'Marks': {'Maths': 100, 'English': 70}}],\n",
       "  'Branch 2': [{}]},\n",
       " 2023: {'Branch 1': [{}], 'Branch 2': [{}]},\n",
       " 2024: {'Branch 1': [{}], 'Branch 2': [{}]},\n",
       " 2025: {'Branch 1': [{}], 'Branch 2': [{}]}}"
      ]
     },
     "execution_count": 368,
     "metadata": {},
     "output_type": "execute_result"
    }
   ],
   "source": [
    "record = {2022: {'Branch 1' : [{'Roll Number' : 1, 'Name' : 'N', 'Marks' : {'Maths' : 100, 'English' : 70}}], 'Branch 2' : [{}]},\n",
    "          2023: {'Branch 1' : [{}], 'Branch 2' : [{}]}, 2024: {'Branch 1' : [{}], 'Branch 2' : [{}]}, 2025: {'Branch 1' : [{}], 'Branch 2' : [{}]}}\n",
    "record"
   ]
  },
  {
   "cell_type": "markdown",
   "id": "28274661-b849-44c9-8529-f834dcdebb3b",
   "metadata": {},
   "source": [
    "### Question 8"
   ]
  },
  {
   "cell_type": "code",
   "execution_count": 185,
   "id": "23a6b686-cbc2-4abc-8004-46ccfb18f8a0",
   "metadata": {},
   "outputs": [],
   "source": [
    "class Student:\n",
    "    def __init__(self, name=None, roll_number=None , marks=None):\n",
    "        self.name = name\n",
    "        self.roll_number = roll_number\n",
    "        self.marks = marks\n",
    "\n",
    "class Branch:\n",
    "    def __init__(self, branch=None):\n",
    "        self.branch = branch\n",
    "        self.students = []\n",
    "    def add_students(self, student):\n",
    "        self.students.append(student)\n",
    "\n",
    "class Year:\n",
    "    def __init__(self, year=None):\n",
    "        self.year = year\n",
    "        self.branches = []\n",
    "    def add_branch(self, branch):\n",
    "        self.branches.append(branch)\n",
    "\n",
    "class Database:\n",
    "    def __init__(self):\n",
    "        self.years = []\n",
    "    def add_year(self, year):\n",
    "        self.years.append(year)"
   ]
  },
  {
   "cell_type": "code",
   "execution_count": 189,
   "id": "61436ce4-f9d9-490f-ad62-a33de14d8214",
   "metadata": {},
   "outputs": [
    {
     "name": "stdout",
     "output_type": "stream",
     "text": [
      "2022\n",
      "     Branch 1\n",
      "        Roll Number: 1, Name: N, Marks: {'Maths': 100, 'English': 70}\n",
      "     Branch 2\n",
      "2023\n",
      "     Branch 1\n",
      "     Branch 2\n",
      "2024\n",
      "     Branch 1\n",
      "     Branch 2\n",
      "2025\n",
      "     Branch 1\n",
      "     Branch 2\n"
     ]
    }
   ],
   "source": [
    "database = Database()\n",
    "year = Year(2022)\n",
    "branch1 = Branch('Branch 1')\n",
    "branch2 = Branch('Branch 2')\n",
    "student = Student('N', 1, {'Maths' : 100, 'English' : 70})\n",
    "branch1.add_students(student)\n",
    "year.add_branch(branch1)\n",
    "year.add_branch(branch2)\n",
    "database.add_year(year)\n",
    "\n",
    "year = Year(2023)\n",
    "branch1 = Branch('Branch 1')\n",
    "branch2 = Branch('Branch 2')\n",
    "# student = Student()\n",
    "# branch1.add_students(student)\n",
    "year.add_branch(branch1)\n",
    "year.add_branch(branch2)\n",
    "database.add_year(year)\n",
    "\n",
    "year = Year(2024)\n",
    "branch1 = Branch('Branch 1')\n",
    "branch2 = Branch('Branch 2')\n",
    "# student = Student()\n",
    "# branch1.add_students(student)\n",
    "year.add_branch(branch1)\n",
    "year.add_branch(branch2)\n",
    "database.add_year(year)\n",
    "\n",
    "year = Year(2025)\n",
    "branch1 = Branch('Branch 1')\n",
    "branch2 = Branch('Branch 2')\n",
    "# student = Student()\n",
    "# branch1.add_students(student)\n",
    "year.add_branch(branch1)\n",
    "year.add_branch(branch2)\n",
    "database.add_year(year)\n",
    "\n",
    "for year in database.years:\n",
    "    print(year.year)\n",
    "    for branch in year.branches:\n",
    "        print(\"    \", branch.branch)\n",
    "        for student in branch.students:\n",
    "            print(f\"        Roll Number: {student.roll_number}, Name: {student.name}, Marks: {student.marks}\")"
   ]
  },
  {
   "cell_type": "markdown",
   "id": "6e30abbc-ef93-4a14-b96c-d5e2337b8d70",
   "metadata": {},
   "source": [
    "### Question 9"
   ]
  },
  {
   "cell_type": "code",
   "execution_count": 18,
   "id": "2940d014-a0da-4930-988f-275117eca943",
   "metadata": {},
   "outputs": [],
   "source": [
    "import numpy as np\n",
    "import matplotlib.pyplot as plt"
   ]
  },
  {
   "cell_type": "code",
   "execution_count": 19,
   "id": "fa4e754c-5cda-4039-b62b-cbe424a4a90b",
   "metadata": {},
   "outputs": [
    {
     "data": {
      "image/png": "[encoded data removed]",
      "text/plain": [
       "<Figure size 640x480 with 4 Axes>"
      ]
     },
     "metadata": {},
     "output_type": "display_data"
    }
   ],
   "source": [
    "x = np.arange(0.5, 100, 0.5)\n",
    "y = x\n",
    "\n",
    "x = np.arange(0.5, 100, 0.5)\n",
    "y = x\n",
    "\n",
    "fig, axs = plt.subplots(2, 2)\n",
    "axs[0, 0].plot(x, y)\n",
    "\n",
    "y = x**2\n",
    "axs[0, 1].plot(x, y, 'tab:orange')\n",
    "\n",
    "y = (x**3)/100\n",
    "axs[1, 0].plot(x, y, 'tab:green')\n",
    "\n",
    "y = np.sin(x)\n",
    "axs[1, 1].plot(x, y, 'tab:red')\n",
    "\n",
    "fig.tight_layout()\n",
    "plt.show()"
   ]
  },
  {
   "cell_type": "code",
   "execution_count": 20,
   "id": "90d699af-20e2-429e-80ad-f692cce1987d",
   "metadata": {},
   "outputs": [
    {
     "data": {
      "image/png": "[encoded data removed]",
      "text/plain": [
       "<Figure size 640x480 with 3 Axes>"
      ]
     },
     "metadata": {},
     "output_type": "display_data"
    }
   ],
   "source": [
    "fig, axs = plt.subplots(1, 3)\n",
    "\n",
    "y = np.sin(x)/x\n",
    "axs[0].plot(x, y)\n",
    "\n",
    "y = np.log(x)\n",
    "axs[1].plot(x, y, 'tab:red')\n",
    "\n",
    "y = np.exp(x)\n",
    "axs[2].plot(x, y, 'tab:green')\n",
    "\n",
    "fig.tight_layout()\n",
    "plt.show()"
   ]
  },
  {
   "cell_type": "markdown",
   "id": "593eb0d4-ea03-4f9a-a367-1152f1a81dc8",
   "metadata": {},
   "source": [
    "### Question 10"
   ]
  },
  {
   "cell_type": "code",
   "execution_count": 27,
   "id": "41704447-fffb-4d55-8087-18fbfc9bc5dd",
   "metadata": {},
   "outputs": [],
   "source": [
    "import numpy as np\n",
    "import pandas as pd"
   ]
  },
  {
   "cell_type": "code",
   "execution_count": 371,
   "id": "dbc4a549-e5b4-4070-a3be-00d669ffe46d",
   "metadata": {},
   "outputs": [
    {
     "name": "stdout",
     "output_type": "stream",
     "text": [
      "Column index with the highest standard deviation:  1\n",
      "Row index with the lowest mean:  12\n",
      "\n",
      "a    0.229648\n",
      "b    0.304709\n",
      "c    0.291318\n",
      "d    0.279556\n",
      "e    0.283649\n",
      "dtype: float64\n",
      "0     1.641744\n",
      "1     1.358547\n",
      "2     1.595824\n",
      "3     1.893397\n",
      "4     1.593633\n",
      "5     1.528156\n",
      "6     1.350052\n",
      "7     1.471643\n",
      "8     1.473203\n",
      "9     1.571390\n",
      "10    1.368332\n",
      "11    1.436551\n",
      "12    1.256530\n",
      "13    1.614566\n",
      "14    1.588367\n",
      "15    1.598946\n",
      "16    1.472749\n",
      "17    1.391334\n",
      "18    1.689034\n",
      "19    1.594212\n",
      "dtype: float64\n"
     ]
    }
   ],
   "source": [
    "arr = np.random.uniform(low=1, high=2, size=(20, 5))\n",
    "df = pd.DataFrame(arr, columns=['a', 'b', 'c', 'd', 'e'])\n",
    "\n",
    "max_std_col_index = np.argmax([std for std in df.std()])\n",
    "min_mean_row_index = np.argmin([mean for mean in df.mean(axis=1)])\n",
    "\n",
    "print(\"Column index with the highest standard deviation: \", max_std_col_index)\n",
    "print(\"Row index with the lowest mean: \", min_mean_row_index)\n",
    "print()\n",
    "print(df.std())\n",
    "print(df.mean(axis=1))"
   ]
  },
  {
   "cell_type": "markdown",
   "id": "359993c3-9244-49ef-b918-ac5eedae6c6b",
   "metadata": {},
   "source": [
    "### Question 11"
   ]
  },
  {
   "cell_type": "code",
   "execution_count": 104,
   "id": "ee7e1318-e616-468b-95a4-9036537e776d",
   "metadata": {},
   "outputs": [],
   "source": [
    "def f(num):\n",
    "    if num < 8.0:\n",
    "        return 'LT8'\n",
    "    return 'GT8'"
   ]
  },
  {
   "cell_type": "code",
   "execution_count": 163,
   "id": "d3c493eb-a5f9-44b9-86e1-7f30bd53b659",
   "metadata": {},
   "outputs": [
    {
     "name": "stdout",
     "output_type": "stream",
     "text": [
      "Number of rows having only LT8 as value in 'g' column:  17\n",
      "Standard deviation of the column f where the value of col g is LT8:  0.4145709150828795\n",
      "Standard deviation of the column f where the value of col g is GT8:  0.08593230902208686\n"
     ]
    },
    {
     "data": {
      "text/plain": [
       "(           a         b         c         d         e         f    g\n",
       " 0   1.586910  1.785437  1.393076  1.161142  1.332181  7.258747  LT8\n",
       " 1   1.271511  1.235995  1.564982  1.870445  1.042608  6.985541  LT8\n",
       " 2   1.934155  1.212390  1.574977  1.854494  1.411675  7.987692  LT8\n",
       " 3   1.551343  1.953340  1.049409  1.028281  1.887593  7.469966  LT8\n",
       " 4   1.490963  1.688835  1.375285  1.258511  1.910567  7.724160  LT8\n",
       " 5   1.525080  1.570101  1.843240  1.520694  1.172511  7.631626  LT8\n",
       " 6   1.274543  1.506046  1.684356  1.980097  1.625242  8.070283  GT8\n",
       " 7   1.209899  1.437465  1.525477  1.363509  1.785995  7.322345  LT8\n",
       " 8   1.171188  1.486562  1.726576  1.748623  1.087999  7.220948  LT8\n",
       " 9   1.538618  1.118053  1.010757  1.000642  1.743134  6.411204  LT8\n",
       " 10  1.766195  1.492179  1.706269  1.323240  1.430045  7.717928  LT8\n",
       " 11  1.126684  1.663860  1.834857  1.419634  1.139229  7.184264  LT8\n",
       " 12  1.325729  1.876317  1.235646  1.656808  1.758048  7.852549  LT8\n",
       " 13  1.725273  1.951010  1.433126  1.359288  1.111200  7.579897  LT8\n",
       " 14  1.915605  1.049186  1.474664  1.999655  1.611963  8.051074  GT8\n",
       " 15  1.829345  1.619561  1.622432  1.540159  1.597088  8.208585  GT8\n",
       " 16  1.373250  1.436717  1.533143  1.047316  1.292849  6.683274  LT8\n",
       " 17  1.895441  1.431297  1.107902  1.613532  1.371192  7.419363  LT8\n",
       " 18  1.338320  1.783615  1.764077  1.708286  1.174560  7.768859  LT8\n",
       " 19  1.263566  1.468235  1.151855  1.942922  1.585397  7.411976  LT8,\n",
       "                a          b          c          d          e          f\n",
       " count  17.000000  17.000000  17.000000  17.000000  17.000000  17.000000\n",
       " mean    1.476125   1.564201   1.460627   1.463375   1.425693   7.390020\n",
       " std     0.247677   0.252734   0.273574   0.306742   0.297228   0.414571\n",
       " min     1.126684   1.118053   1.010757   1.000642   1.042608   6.411204\n",
       " 25%     1.271511   1.436717   1.235646   1.258511   1.172511   7.220948\n",
       " 50%     1.490963   1.492179   1.525477   1.419634   1.371192   7.419363\n",
       " 75%     1.586910   1.783615   1.706269   1.708286   1.743134   7.717928\n",
       " max     1.934155   1.953340   1.843240   1.942922   1.910567   7.987692,\n",
       "               a         b         c         d         e         f\n",
       " count  3.000000  3.000000  3.000000  3.000000  3.000000  3.000000\n",
       " mean   1.673164  1.391598  1.593817  1.839970  1.611431  8.109981\n",
       " std    0.347900  0.301920  0.107734  0.259828  0.014085  0.085932\n",
       " min    1.274543  1.049186  1.474664  1.540159  1.597088  8.051074\n",
       " 25%    1.551944  1.277616  1.548548  1.760128  1.604525  8.060678\n",
       " 50%    1.829345  1.506046  1.622432  1.980097  1.611963  8.070283\n",
       " 75%    1.872475  1.562803  1.653394  1.989876  1.618602  8.139434\n",
       " max    1.915605  1.619561  1.684356  1.999655  1.625242  8.208585)"
      ]
     },
     "execution_count": 163,
     "metadata": {},
     "output_type": "execute_result"
    }
   ],
   "source": [
    "df['f'] = df['a'] + df['b'] + df['c'] + df['d'] + df['e']\n",
    "df['g'] = df['f'].apply(f)\n",
    "\n",
    "only_LT8 = df[df['g'] == 'LT8']\n",
    "print(\"Number of rows having only LT8 as value in 'g' column: \", len(only_LT8))\n",
    "only_GT8 = df[df['g'] == 'GT8']\n",
    "\n",
    "print(\"Standard deviation of the column f where the value of col g is LT8: \",only_LT8['f'].std())\n",
    "print(\"Standard deviation of the column f where the value of col g is GT8: \",only_GT8['f'].std())\n",
    "\n",
    "df, only_LT8.describe(), only_GT8.describe()"
   ]
  },
  {
   "cell_type": "markdown",
   "id": "d02aedb3-7427-4bf2-ae66-c197c5e427cb",
   "metadata": {},
   "source": [
    "### Question 12"
   ]
  },
  {
   "cell_type": "code",
   "execution_count": 20,
   "id": "77f0bf05-b06b-4232-bac4-f5be5a144465",
   "metadata": {},
   "outputs": [
    {
     "name": "stdout",
     "output_type": "stream",
     "text": [
      "[1 2 3]\n",
      "[[0 1 2]\n",
      " [3 4 5]]\n"
     ]
    },
    {
     "data": {
      "text/plain": [
       "array([[1, 3, 5],\n",
       "       [4, 6, 8]])"
      ]
     },
     "execution_count": 20,
     "metadata": {},
     "output_type": "execute_result"
    }
   ],
   "source": [
    "a = np.array([1, 2, 3])\n",
    "b = np.reshape(np.arange(6), (2, 3))\n",
    "print(a)\n",
    "print(b)\n",
    "a + b"
   ]
  },
  {
   "cell_type": "markdown",
   "id": "bf1a2f58-2131-4c35-a829-19ee3fb76bda",
   "metadata": {},
   "source": [
    "Boadcasting is a term that is used to define how numpy treats arrays during arithmetic operations. Whenever, the shape of one of the array is different then the other as in the example above, the smaller array can be thought of as being streathed(copies) to meet the constraints. However, to utilize the memory efficiently no copies are made. Moreover, is the size does not match then one of the dimensions of must be one.\n",
    "\n",
    "In this example array, during the addition operation 'a' can be thought of [[1, 2, 3], [1, 2, 3]] that is being added to b to produce the required result."
   ]
  },
  {
   "cell_type": "markdown",
   "id": "f1b1f7d4-9628-4f87-add2-3e9e3540064b",
   "metadata": {},
   "source": [
    "### Question 13"
   ]
  },
  {
   "cell_type": "code",
   "execution_count": 380,
   "id": "12ce283b-7877-474b-873a-e3191d30ca30",
   "metadata": {},
   "outputs": [],
   "source": [
    "def find_argmin(arr):\n",
    "    if len(arr) == 0:\n",
    "        return -1\n",
    "    index     = 0\n",
    "    min_value = arr[0]\n",
    "    for i in range(len(arr)):\n",
    "        if arr[i] < min_value:\n",
    "            min_value = value\n",
    "            index = i\n",
    "    return index"
   ]
  },
  {
   "cell_type": "code",
   "execution_count": 382,
   "id": "2ebdad71-78a2-4359-a2c3-ecb84b7916ee",
   "metadata": {},
   "outputs": [
    {
     "name": "stdout",
     "output_type": "stream",
     "text": [
      "Using custom function:  1\n",
      "Using numpy:  1\n"
     ]
    }
   ],
   "source": [
    "a = np.arange(10)\n",
    "a[0] = 100\n",
    "print(\"Using custom function: \", find_argmin(a))\n",
    "\n",
    "print(\"Using numpy: \", np.argmin(a))"
   ]
  }
 ],
 "metadata": {
  "kernelspec": {
   "display_name": "Python 3 (ipykernel)",
   "language": "python",
   "name": "python3"
  },
  "language_info": {
   "codemirror_mode": {
    "name": "ipython",
    "version": 3
   },
   "file_extension": ".py",
   "mimetype": "text/x-python",
   "name": "python",
   "nbconvert_exporter": "python",
   "pygments_lexer": "ipython3",
   "version": "3.10.12"
  }
 },
 "nbformat": 4,
 "nbformat_minor": 5
}
